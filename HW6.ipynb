{
 "cells": [
  {
   "cell_type": "code",
   "execution_count": 1,
   "id": "99986ac9-37a5-477c-ac74-3c022a92b091",
   "metadata": {},
   "outputs": [],
   "source": [
    "import json"
   ]
  },
  {
   "cell_type": "code",
   "execution_count": 6,
   "id": "6dbc7012-3609-48d1-afb7-244efe1820eb",
   "metadata": {},
   "outputs": [
    {
     "name": "stdout",
     "output_type": "stream",
     "text": [
      "{'1840e0b9d4': 'Продукты', '4e4f90fcfb': 'Электроника'}\n"
     ]
    }
   ],
   "source": [
    "# С загрузкой файл в память\n",
    "i=0\n",
    "purchases={}\n",
    "f= open ('purchase_log.txt','r',encoding=\"utf-8\") \n",
    "content=f.readlines()\n",
    "f.seek(0)\n",
    "for i,line in enumerate(content):\n",
    "    line=line.strip()\n",
    "    strochka=json.loads(line)\n",
    "    if i>=1:\n",
    "        purchases[strochka['user_id']]=strochka['category']\n",
    "    if i>1:\n",
    "        break\n",
    "print(purchases)"
   ]
  },
  {
   "cell_type": "code",
   "execution_count": 7,
   "id": "70264354-5a6a-4372-ad7e-b2b4421e5d24",
   "metadata": {},
   "outputs": [],
   "source": [
    "import csv\n",
    "\n",
    "purchases={}\n",
    "with open ('purchase_log.txt','r',encoding=\"utf-8\") as f:\n",
    "    for lineP in f:\n",
    "        lineP=lineP.strip()\n",
    "        strochka=json.loads(lineP)\n",
    "        purchases[strochka['user_id']]=strochka['category']\n",
    "\n",
    "with open('visit_log.csv') as fvisit:\n",
    "    with open('funnel.csv','w',encoding='utf-8') as ffunnel:  \n",
    "        ffunnelwriter=csv.writer(ffunnel)\n",
    "        reader = csv.reader(fvisit, delimiter=',')\n",
    "        for line in reader:\n",
    "            if line[0] in purchases:\n",
    "                line.insert(2,purchases[line[0]])\n",
    "                ffunnelwriter.writerow(line)\n",
    "f.close()\n",
    "fvisit.close()\n",
    "ffunnel.close()"
   ]
  },
  {
   "cell_type": "code",
   "execution_count": null,
   "id": "aa67435a-e643-44a9-9d51-9f177e67f8e0",
   "metadata": {},
   "outputs": [],
   "source": []
  }
 ],
 "metadata": {
  "kernelspec": {
   "display_name": "Python 3 (ipykernel)",
   "language": "python",
   "name": "python3"
  },
  "language_info": {
   "codemirror_mode": {
    "name": "ipython",
    "version": 3
   },
   "file_extension": ".py",
   "mimetype": "text/x-python",
   "name": "python",
   "nbconvert_exporter": "python",
   "pygments_lexer": "ipython3",
   "version": "3.12.4"
  }
 },
 "nbformat": 4,
 "nbformat_minor": 5
}
