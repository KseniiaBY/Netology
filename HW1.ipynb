{
 "cells": [
  {
   "cell_type": "code",
   "execution_count": 12,
   "id": "45f8eb9e-1b0d-4353-9f0b-edef9efc3204",
   "metadata": {},
   "outputs": [
    {
     "name": "stdin",
     "output_type": "stream",
     "text": [
      "Введите год 1999\n"
     ]
    },
    {
     "name": "stdout",
     "output_type": "stream",
     "text": [
      "невисокосный год\n"
     ]
    }
   ],
   "source": [
    "\n",
    "year=input('Введите год')\n",
    "year=int(year)\n",
    "if year%4==0:\n",
    "    print('високосный год')\n",
    "else:\n",
    "     print('невисокосный год')"
   ]
  },
  {
   "cell_type": "code",
   "execution_count": 42,
   "id": "1010e3d7-86f5-4813-bc2f-bf215b883d6f",
   "metadata": {},
   "outputs": [
    {
     "name": "stdin",
     "output_type": "stream",
     "text": [
      "Введите шестизначное число 123435\n"
     ]
    },
    {
     "name": "stdout",
     "output_type": "stream",
     "text": [
      "обычный билет\n"
     ]
    }
   ],
   "source": [
    "num=input('Введите шестизначное число')\n",
    "s1=0\n",
    "s2=0\n",
    "\n",
    "for i in range(0,3):\n",
    "        s1=s1+int(num[i])\n",
    "for i in range(3,6):\n",
    "    s2=s2+int(num[i])\n",
    "\n",
    "if s1==s2:\n",
    "    print('Счастливый билет')\n",
    "else:\n",
    "    print('обычный билет')"
   ]
  },
  {
   "cell_type": "code",
   "execution_count": null,
   "id": "5b3941b7-e18c-42d6-918b-1b18cb828777",
   "metadata": {},
   "outputs": [],
   "source": []
  }
 ],
 "metadata": {
  "kernelspec": {
   "display_name": "Python 3 (ipykernel)",
   "language": "python",
   "name": "python3"
  },
  "language_info": {
   "codemirror_mode": {
    "name": "ipython",
    "version": 3
   },
   "file_extension": ".py",
   "mimetype": "text/x-python",
   "name": "python",
   "nbconvert_exporter": "python",
   "pygments_lexer": "ipython3",
   "version": "3.12.4"
  }
 },
 "nbformat": 4,
 "nbformat_minor": 5
}
