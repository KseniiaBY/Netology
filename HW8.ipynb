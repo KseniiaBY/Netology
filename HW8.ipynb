{
 "cells": [
  {
   "cell_type": "code",
   "execution_count": 1,
   "id": "03aeb5d4-9471-4dfe-a757-ffbebbd6caae",
   "metadata": {},
   "outputs": [],
   "source": [
    "import requests"
   ]
  },
  {
   "cell_type": "code",
   "execution_count": 7,
   "id": "5bc92860-ebba-43bd-9c19-a311db92c4de",
   "metadata": {},
   "outputs": [],
   "source": [
    "class Rate:\n",
    "    def __init__(self, format_='value', diff=True):\n",
    "        self.format = format_\n",
    "        self.diff = diff\n",
    "    \n",
    "    \n",
    "    def exchange_rates(self):\n",
    "        \"\"\"\n",
    "        Возвращает ответ сервиса с информацией о валютах в виде:\n",
    "        \n",
    "        {\n",
    "            'AMD': {\n",
    "                'CharCode': 'AMD',\n",
    "                'ID': 'R01060',\n",
    "                'Name': 'Армянских драмов',\n",
    "                'Nominal': 100,\n",
    "                'NumCode': '051',\n",
    "                'Previous': 14.103,\n",
    "                'Value': 14.0879\n",
    "                },\n",
    "            ...\n",
    "        }\n",
    "        \"\"\"\n",
    "        self.r = requests.get('https://www.cbr-xml-daily.ru/daily_json.js')\n",
    "        return self.r.json()['Valute']\n",
    "    \n",
    "    def max_value(self):\n",
    "        \"\"\"\n",
    "       возвращает название валюты (поле Name) с максимальным значением курса\n",
    "        \n",
    "        \"\"\"\n",
    "        response1 = self.exchange_rates()\n",
    "        a=0\n",
    "        for currency1 in response1:\n",
    "            if response1[currency1]['Value'] > a:\n",
    "                a=response1[currency1]['Value']\n",
    "                b=response1[currency1]['Name']\n",
    "        return b\n",
    "    \n",
    "    def make_format(self, currency):\n",
    "        \"\"\"\n",
    "        Возвращает информацию о валюте currency в двух вариантах:\n",
    "        - полная информация о валюте при self.format = 'full':\n",
    "        Rate('full').make_format('EUR')\n",
    "        {\n",
    "            'CharCode': 'EUR',\n",
    "            'ID': 'R01239',\n",
    "            'Name': 'Евро',\n",
    "            'Nominal': 1,\n",
    "            'NumCode': '978',\n",
    "            'Previous': 79.6765,\n",
    "            'Value': 79.4966\n",
    "        }\n",
    "        \n",
    "        Rate('value').make_format('EUR')\n",
    "        79.4966\n",
    "        \"\"\"\n",
    "        response = self.exchange_rates()\n",
    "        \n",
    "        if currency in response:\n",
    "            if self.format=='value':\n",
    "                if self.diff== True:\n",
    "                    razn=response[currency]['Value']-response[currency]['Previous']\n",
    "                    return razn\n",
    "                else:\n",
    "                    return response[currency]['Value']\n",
    "            elif self.format=='full':\n",
    "                return response[currency]\n",
    "            \n",
    "        return 'Error'\n",
    "\n",
    "\n",
    "    def eur(self):\n",
    "        \n",
    "        return self.make_format('EUR')\n",
    "    \n",
    "    def usd(self):\n",
    "       \n",
    "        return self.make_format('USD')\n",
    "    \n",
    "    def brl(self):\n",
    "        \n",
    "        return self.make_format('BRL')\n"
   ]
  },
  {
   "cell_type": "code",
   "execution_count": 8,
   "id": "05ea3ab8-8319-479e-900c-de879013fedd",
   "metadata": {},
   "outputs": [],
   "source": [
    "r=Rate()"
   ]
  },
  {
   "cell_type": "code",
   "execution_count": 9,
   "id": "b55c1d4b-d956-4dc1-a19d-fce992240450",
   "metadata": {},
   "outputs": [
    {
     "data": {
      "text/plain": [
       "'СДР (специальные права заимствования)'"
      ]
     },
     "execution_count": 9,
     "metadata": {},
     "output_type": "execute_result"
    }
   ],
   "source": [
    "r.max_value()"
   ]
  },
  {
   "cell_type": "code",
   "execution_count": 14,
   "id": "a0e17ff1-f737-4657-8c74-063283a04440",
   "metadata": {},
   "outputs": [],
   "source": [
    "r = Rate(diff=False)"
   ]
  },
  {
   "cell_type": "code",
   "execution_count": 15,
   "id": "95abfc7e-5045-4d22-9c06-dc9c2b100959",
   "metadata": {},
   "outputs": [
    {
     "data": {
      "text/plain": [
       "103.3837"
      ]
     },
     "execution_count": 15,
     "metadata": {},
     "output_type": "execute_result"
    }
   ],
   "source": [
    "r.usd()"
   ]
  },
  {
   "cell_type": "code",
   "execution_count": null,
   "id": "e02598c8-6ff7-471f-bad6-73f3f37e3f9c",
   "metadata": {},
   "outputs": [],
   "source": []
  }
 ],
 "metadata": {
  "kernelspec": {
   "display_name": "Python 3 (ipykernel)",
   "language": "python",
   "name": "python3"
  },
  "language_info": {
   "codemirror_mode": {
    "name": "ipython",
    "version": 3
   },
   "file_extension": ".py",
   "mimetype": "text/x-python",
   "name": "python",
   "nbconvert_exporter": "python",
   "pygments_lexer": "ipython3",
   "version": "3.12.4"
  }
 },
 "nbformat": 4,
 "nbformat_minor": 5
}
