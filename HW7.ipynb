{
 "cells": [
  {
   "cell_type": "code",
   "execution_count": 1,
   "id": "96007610-8a73-4a9a-bbb8-808559d6370e",
   "metadata": {},
   "outputs": [
    {
     "ename": "SyntaxError",
     "evalue": "invalid character '—' (U+2014) (2062016124.py, line 1)",
     "output_type": "error",
     "traceback": [
      "\u001b[1;36m  Cell \u001b[1;32mIn[1], line 1\u001b[1;36m\u001b[0m\n\u001b[1;33m    The Moscow Times — Wednesday, October 2, 2002\u001b[0m\n\u001b[1;37m                     ^\u001b[0m\n\u001b[1;31mSyntaxError\u001b[0m\u001b[1;31m:\u001b[0m invalid character '—' (U+2014)\n"
     ]
    }
   ],
   "source": [
    "The Moscow Times — Wednesday, October 2, 2002\n",
    "The Guardian — Friday, 11.10.13\n",
    "Daily News — Thursday, 18 August 1977"
   ]
  },
  {
   "cell_type": "code",
   "execution_count": 10,
   "id": "5467ef6f-3bcc-4331-8f85-3b0f375d7948",
   "metadata": {},
   "outputs": [],
   "source": [
    "from datetime import datetime\n",
    "from datetime import timedelta"
   ]
  },
  {
   "cell_type": "code",
   "execution_count": 6,
   "id": "90e26c5a-d723-410a-be80-8e0303e54f54",
   "metadata": {},
   "outputs": [
    {
     "name": "stdout",
     "output_type": "stream",
     "text": [
      "2002-10-02 00:00:00 2013-10-11 00:00:00 1977-08-18 00:00:00\n"
     ]
    }
   ],
   "source": [
    "moscowtime='Wednesday, October 2, 2002'\n",
    "gurdiantime='Friday, 11.10.13'\n",
    "dailynewstime='Thursday, 18 August 1977'\n",
    "\n",
    "moscow_dt=datetime.strptime(moscowtime, '%A, %B %d, %Y')\n",
    "gurdian_dt=datetime.strptime(gurdiantime, '%A, %d.%m.%y')\n",
    "daily_dt=datetime.strptime(dailynewstime, '%A, %d %B %Y')\n",
    "\n",
    "print(moscow_dt, gurdian_dt, daily_dt)"
   ]
  },
  {
   "cell_type": "code",
   "execution_count": 7,
   "id": "39a30a9f-7e5d-4344-8fc9-511ec7fb8a8a",
   "metadata": {},
   "outputs": [],
   "source": [
    "###ЗАДАНИЕ 2"
   ]
  },
  {
   "cell_type": "code",
   "execution_count": 39,
   "id": "14a34bf9-52d8-4f28-a888-04c5dd06ee38",
   "metadata": {},
   "outputs": [],
   "source": [
    "def date_range(start_date,end_date):\n",
    "    datalist=[]\n",
    "\n",
    "    try:\n",
    "        start_date_dt = datetime.strptime(start_date, '%Y-%m-%d')\n",
    "        end_date_dt = datetime.strptime(end_date, '%Y-%m-%d')\n",
    "        current_dt = start_date_dt\n",
    "        while current_dt <= end_date_dt:\n",
    "            datalist.append(current_dt.strftime('%Y-%m-%d'))\n",
    "            current_dt += timedelta(days=1)\n",
    "    except ValueError:\n",
    "       pass\n",
    "\n",
    "    return datalist"
   ]
  },
  {
   "cell_type": "code",
   "execution_count": 43,
   "id": "73d8355b-a941-4a3c-bd57-0b431e634d14",
   "metadata": {},
   "outputs": [
    {
     "data": {
      "text/plain": [
       "[]"
      ]
     },
     "execution_count": 43,
     "metadata": {},
     "output_type": "execute_result"
    }
   ],
   "source": [
    "date_range('2022-02-03', '2022-02-01')"
   ]
  },
  {
   "cell_type": "code",
   "execution_count": null,
   "id": "3f509fb0-8b7f-4931-b76e-558050808377",
   "metadata": {},
   "outputs": [],
   "source": []
  }
 ],
 "metadata": {
  "kernelspec": {
   "display_name": "Python 3 (ipykernel)",
   "language": "python",
   "name": "python3"
  },
  "language_info": {
   "codemirror_mode": {
    "name": "ipython",
    "version": 3
   },
   "file_extension": ".py",
   "mimetype": "text/x-python",
   "name": "python",
   "nbconvert_exporter": "python",
   "pygments_lexer": "ipython3",
   "version": "3.12.4"
  }
 },
 "nbformat": 4,
 "nbformat_minor": 5
}
