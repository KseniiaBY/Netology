{
 "cells": [
  {
   "cell_type": "code",
   "execution_count": 32,
   "id": "d50e36d3-abaf-4da9-9963-a3967d5b9396",
   "metadata": {},
   "outputs": [
    {
     "name": "stdout",
     "output_type": "stream",
     "text": [
      "{98, 35, 15, 213, 54, 119}\n"
     ]
    }
   ],
   "source": [
    "ids = {\n",
    "    'user1': [213, 213, 213, 15, 213],\n",
    "    'user2': [54, 54, 119, 119, 119],\n",
    "    'user3': [213, 98, 98, 35]\n",
    "}\n",
    "a=[]\n",
    "for value in ids.values():\n",
    "    a+=value\n",
    "print(set(a))"
   ]
  },
  {
   "cell_type": "code",
   "execution_count": 62,
   "id": "7ad59ecf-1516-45ec-8104-0fe91c7eb859",
   "metadata": {},
   "outputs": [
    {
     "name": "stdout",
     "output_type": "stream",
     "text": [
      "Поисковых запросов, содержащих 2 слов(а): 42.86%\n",
      "Поисковых запросов, содержащих 3 слов(а): 57.14%\n"
     ]
    }
   ],
   "source": [
    "queries = [\n",
    "    'смотреть сериалы онлайн',\n",
    "    'новости спорта',\n",
    "    'афиша кино',\n",
    "    'курс доллара',\n",
    "    'сериалы этим летом',\n",
    "    'курс по питону',\n",
    "    'сериалы про спорт',\n",
    "]\n",
    "a,b=0,0\n",
    "for i in range(len(queries)):\n",
    "    if queries[i].count(' ')==2:\n",
    "        a=a+1\n",
    "    else:\n",
    "        b=b+1\n",
    "print('Поисковых запросов, содержащих 2 слов(а):',f\"{b/len(queries):.2%}\")\n",
    "print('Поисковых запросов, содержащих 3 слов(а):',f\"{a/len(queries):.2%}\")    "
   ]
  },
  {
   "cell_type": "code",
   "execution_count": null,
   "id": "2f8ec114-cf95-4a59-ac8f-51aefcdc5b47",
   "metadata": {},
   "outputs": [],
   "source": []
  },
  {
   "cell_type": "code",
   "execution_count": null,
   "id": "06f900cf-3614-42b6-95e6-9c1601e8dab0",
   "metadata": {},
   "outputs": [],
   "source": []
  }
 ],
 "metadata": {
  "kernelspec": {
   "display_name": "Python 3 (ipykernel)",
   "language": "python",
   "name": "python3"
  },
  "language_info": {
   "codemirror_mode": {
    "name": "ipython",
    "version": 3
   },
   "file_extension": ".py",
   "mimetype": "text/x-python",
   "name": "python",
   "nbconvert_exporter": "python",
   "pygments_lexer": "ipython3",
   "version": "3.12.4"
  }
 },
 "nbformat": 4,
 "nbformat_minor": 5
}
