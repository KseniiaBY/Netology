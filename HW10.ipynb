{
 "cells": [
  {
   "cell_type": "code",
   "execution_count": 3,
   "id": "1712d8c9-4072-4a25-b013-318ea0cabe3a",
   "metadata": {},
   "outputs": [],
   "source": [
    "import re"
   ]
  },
  {
   "cell_type": "code",
   "execution_count": 73,
   "id": "3c69949a-bd74-462f-a610-32cd868b7f75",
   "metadata": {},
   "outputs": [],
   "source": [
    "def nomer(car_id):\n",
    "\n",
    "    if re.search(r'[А,A,B,В,Е,E,К,K,M,М,Н,H,O,О,P,Р,C,С,T,Т,X,X,Y,У]{1}\\d{3}[А,A,B,В,Е,E,К,K,M,М,Н,H,O,О,P,Р,C,С,T,Т,X,X,Y,У]{2}\\d{2,3}', car_id):\n",
    "        reg=re.search(r'\\d{2,3}$', car_id)\n",
    "        a=reg.group(0)\n",
    "        msg=f\"Номер {car_id} валиден. Регион: {a}.\"\n",
    "    else:\n",
    "        msg=f\"Номер не валиден\"\n",
    "        \n",
    "    return msg"
   ]
  },
  {
   "cell_type": "code",
   "execution_count": 74,
   "id": "621de2d2-c82c-4035-baf5-06f64d8a7afa",
   "metadata": {},
   "outputs": [
    {
     "data": {
      "text/plain": [
       "'Номер A222ВС96 валиден. Регион: 96.'"
      ]
     },
     "execution_count": 74,
     "metadata": {},
     "output_type": "execute_result"
    }
   ],
   "source": [
    "nomer('A222ВС96')"
   ]
  },
  {
   "cell_type": "code",
   "execution_count": 111,
   "id": "4aa18cd5-4edc-47d2-99f0-bcc53d9062e7",
   "metadata": {},
   "outputs": [],
   "source": [
    "some_string = 'Напишите функцию функцию, которая будет будет будет будет удалять все все все все последовательные повторы слов из из из из заданной строки строки при помощи регулярных выражений'"
   ]
  },
  {
   "cell_type": "code",
   "execution_count": 115,
   "id": "e804c8b9-60b8-497f-b5de-c0e51fcf9153",
   "metadata": {},
   "outputs": [
    {
     "name": "stdout",
     "output_type": "stream",
     "text": [
      "Напишите функцию, которая будет удалять все последовательные повторы слов из заданной строки при помощи регулярных выражений\n"
     ]
    }
   ],
   "source": [
    "print(re.sub(r'(\\w+)(\\s+\\1)+',r'\\1',some_string))"
   ]
  },
  {
   "cell_type": "code",
   "execution_count": null,
   "id": "29cc9bd5-ded1-4876-a5d4-56dbe567bd19",
   "metadata": {},
   "outputs": [],
   "source": []
  }
 ],
 "metadata": {
  "kernelspec": {
   "display_name": "Python 3 (ipykernel)",
   "language": "python",
   "name": "python3"
  },
  "language_info": {
   "codemirror_mode": {
    "name": "ipython",
    "version": 3
   },
   "file_extension": ".py",
   "mimetype": "text/x-python",
   "name": "python",
   "nbconvert_exporter": "python",
   "pygments_lexer": "ipython3",
   "version": "3.12.4"
  }
 },
 "nbformat": 4,
 "nbformat_minor": 5
}
