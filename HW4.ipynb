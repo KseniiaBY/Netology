{
 "cells": [
  {
   "cell_type": "code",
   "execution_count": 15,
   "id": "d5967fa2-f0b9-4655-a41e-7830550a8f7d",
   "metadata": {},
   "outputs": [],
   "source": [
    "documents = [\n",
    "{'type': 'passport', 'number': '2207 876234', 'name': 'Василий Гупкин'},\n",
    "{'type': 'invoice', 'number': '11-2', 'name': 'Геннадий Покемонов'},\n",
    "{'type': 'insurance', 'number': '10006', 'name': 'Аристарх Павлов'}\n",
    "]\n",
    "\n",
    "directories = {\n",
    "'1': ['2207 876234', '11-2'],\n",
    "'2': ['10006'],\n",
    "'3': []\n",
    "}\n",
    "\n",
    "def main():\n",
    "    com=input('Введите команду - p или s')\n",
    "    if com==\"q\":\n",
    "        return \"Все\"\n",
    "    else:\n",
    "        nomer=input('Введите номер документа')\n",
    "        if com==\"p\":\n",
    "            vladelec(nomer)\n",
    "        elif com==\"s\":\n",
    "            polka(nomer)\n",
    "\n",
    "\n",
    "def proverka(nomer):\n",
    "    i=0\n",
    "    for doc in documents:\n",
    "        if doc['number']!=nomer:\n",
    "            i+=1\n",
    "    if i==len(documents):\n",
    "        print('Владелец документа: владелец не найден')\n",
    "        main()\n",
    "      \n",
    "    else:\n",
    "        return '1'\n",
    "        #если найден\n",
    "\n",
    "\n",
    "def vladelec(nomer):\n",
    "    if proverka(nomer)=='1':\n",
    "        for doc in documents:\n",
    "            if doc['number']==nomer:\n",
    "                print ('Владелец документа: ',doc['name'])\n",
    "                main()\n",
    "\n",
    "def polka(nomer):\n",
    "    i=0\n",
    "    if proverka(nomer)=='1':\n",
    "        for pol in directories.items():\n",
    "            for i in range(len(pol[1])):\n",
    "                if pol[1][i]==nomer:\n",
    "                    print ('Документ хранится на полке: ',pol[0])\n",
    "                    main()\n"
   ]
  },
  {
   "cell_type": "code",
   "execution_count": 17,
   "id": "0f8375da-5fee-4e97-b0c3-58dadbcea503",
   "metadata": {},
   "outputs": [
    {
     "name": "stdin",
     "output_type": "stream",
     "text": [
      "Введите команду - p или s q\n"
     ]
    },
    {
     "data": {
      "text/plain": [
       "'Все'"
      ]
     },
     "execution_count": 17,
     "metadata": {},
     "output_type": "execute_result"
    }
   ],
   "source": [
    "main()"
   ]
  },
  {
   "cell_type": "code",
   "execution_count": null,
   "id": "c7f1b902-a747-48ba-89a2-1111f2982574",
   "metadata": {},
   "outputs": [],
   "source": []
  }
 ],
 "metadata": {
  "kernelspec": {
   "display_name": "Python 3 (ipykernel)",
   "language": "python",
   "name": "python3"
  },
  "language_info": {
   "codemirror_mode": {
    "name": "ipython",
    "version": 3
   },
   "file_extension": ".py",
   "mimetype": "text/x-python",
   "name": "python",
   "nbconvert_exporter": "python",
   "pygments_lexer": "ipython3",
   "version": "3.12.4"
  }
 },
 "nbformat": 4,
 "nbformat_minor": 5
}
