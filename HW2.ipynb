{
 "cells": [
  {
   "cell_type": "code",
   "execution_count": 17,
   "id": "c6fa1518-c5b2-4c9b-9450-14840ac39f70",
   "metadata": {},
   "outputs": [
    {
     "name": "stdin",
     "output_type": "stream",
     "text": [
      " testing\n"
     ]
    },
    {
     "name": "stdout",
     "output_type": "stream",
     "text": [
      "t\n"
     ]
    }
   ],
   "source": [
    "a=input()\n",
    "\n",
    "if len(a)%2 == 0:\n",
    "    print(a[int(len(a)/2)-1:int(len(a)/2)+1])\n",
    "else:\n",
    "    print(a[int(len(a)/2)])"
   ]
  },
  {
   "cell_type": "code",
   "execution_count": 87,
   "id": "152d12c9-707c-440a-bbf8-6fd17ed5b542",
   "metadata": {},
   "outputs": [
    {
     "name": "stdin",
     "output_type": "stream",
     "text": [
      "Мальчики:  ff,gg\n",
      "Девочки:  f,g\n"
     ]
    },
    {
     "name": "stdout",
     "output_type": "stream",
     "text": [
      "[('ff', 'f'), ('gg', 'g')]\n"
     ]
    }
   ],
   "source": [
    "boys = input('Мальчики: ')\n",
    "boys=boys.split(',')\n",
    "girls = input('Девочки: ')\n",
    "girls=girls.split(',')\n",
    "\n",
    "if len(boys) == len(girls):\n",
    "   pares=zip(boys, girls);\n",
    "   print(list(pares))\n",
    "else:\n",
    "   print('Кто-то может остаться без пары')\n"
   ]
  },
  {
   "cell_type": "code",
   "execution_count": null,
   "id": "80fb376b-e29f-46ac-818c-1fa38ba1c02b",
   "metadata": {},
   "outputs": [],
   "source": []
  }
 ],
 "metadata": {
  "kernelspec": {
   "display_name": "Python 3 (ipykernel)",
   "language": "python",
   "name": "python3"
  },
  "language_info": {
   "codemirror_mode": {
    "name": "ipython",
    "version": 3
   },
   "file_extension": ".py",
   "mimetype": "text/x-python",
   "name": "python",
   "nbconvert_exporter": "python",
   "pygments_lexer": "ipython3",
   "version": "3.12.4"
  }
 },
 "nbformat": 4,
 "nbformat_minor": 5
}
